{
 "cells": [
  {
   "cell_type": "code",
   "execution_count": 1,
   "metadata": {},
   "outputs": [],
   "source": [
    "import jax.numpy as jnp\n",
    "import numpy as np\n",
    "import matplotlib.pyplot as plt\n",
    "%matplotlib inline\n",
    "from svgp.jax.quadrature import expectation_1d"
   ]
  },
  {
   "cell_type": "code",
   "execution_count": 2,
   "metadata": {},
   "outputs": [],
   "source": [
    "x_i = np.array([-0.86, -0.3, -0.05, 0.73])\n",
    "n_i = np.repeat(5., 4)\n",
    "y_i = np.array([0, 1, 3, 5])"
   ]
  },
  {
   "cell_type": "code",
   "execution_count": 3,
   "metadata": {},
   "outputs": [],
   "source": [
    "X = np.stack([np.ones_like(x_i), x_i], axis=1)"
   ]
  },
  {
   "cell_type": "code",
   "execution_count": 9,
   "metadata": {},
   "outputs": [],
   "source": [
    "# Initialise parameters\n",
    "n_params = X.shape[1]\n",
    "n_sites = X.shape[0] + 1\n"
   ]
  },
  {
   "cell_type": "code",
   "execution_count": 53,
   "metadata": {},
   "outputs": [
    {
     "data": {
      "text/plain": [
       "(4, 2)"
      ]
     },
     "execution_count": 53,
     "metadata": {},
     "output_type": "execute_result"
    }
   ],
   "source": [
    "X.shape"
   ]
  },
  {
   "cell_type": "code",
   "execution_count": 10,
   "metadata": {},
   "outputs": [
    {
     "data": {
      "text/plain": [
       "(5, 2, 2)"
      ]
     },
     "execution_count": 10,
     "metadata": {},
     "output_type": "execute_result"
    }
   ],
   "source": [
    "precs.shape"
   ]
  },
  {
   "cell_type": "code",
   "execution_count": 44,
   "metadata": {},
   "outputs": [],
   "source": [
    "from functools import partial"
   ]
  },
  {
   "cell_type": "code",
   "execution_count": 43,
   "metadata": {},
   "outputs": [],
   "source": [
    "from jax.nn import sigmoid\n",
    "\n",
    "def binomial_lik(x, y, m, moment=0.):\n",
    "    \n",
    "    succ_prob = sigmoid(x)\n",
    "    bin_part = succ_prob**y * (1 - succ_prob)**(m - y)\n",
    "    \n",
    "    return x**moment * bin_part"
   ]
  },
  {
   "cell_type": "code",
   "execution_count": 68,
   "metadata": {},
   "outputs": [],
   "source": [
    "from tqdm.notebook import tqdm"
   ]
  },
  {
   "cell_type": "code",
   "execution_count": 116,
   "metadata": {},
   "outputs": [
    {
     "data": {
      "application/vnd.jupyter.widget-view+json": {
       "model_id": "b229067419b9457aa2f73b06c6d4f791",
       "version_major": 2,
       "version_minor": 0
      },
      "text/plain": [
       "HBox(children=(FloatProgress(value=0.0, max=20.0), HTML(value='')))"
      ]
     },
     "metadata": {},
     "output_type": "display_data"
    },
    {
     "name": "stdout",
     "output_type": "stream",
     "text": [
      "\n"
     ]
    }
   ],
   "source": [
    "# This seems sensitive to the choice of the constant in the prec.\n",
    "# 1e-3 worked. But 1e-2 didn't for example.\n",
    "\n",
    "vecs = np.zeros((n_sites, n_params))\n",
    "precs = 1e-4 * np.tile(np.eye(n_params), (n_sites, 1, 1))\n",
    "\n",
    "pred_means = list()\n",
    "pred_covs = list()\n",
    "\n",
    "for _ in tqdm(range(20)):\n",
    "    \n",
    "    full_vec = np.sum(vecs, axis=0)\n",
    "    full_prec = np.sum(precs, axis=0)\n",
    "    \n",
    "    pred_mean = np.linalg.solve(full_prec, full_vec)\n",
    "    pred_cov = np.linalg.inv(full_prec)\n",
    "    \n",
    "    pred_means.append(pred_mean)\n",
    "    pred_covs.append(pred_cov)\n",
    "\n",
    "    for i in range(1, n_sites):\n",
    "\n",
    "        full_vec = np.sum(vecs, axis=0)\n",
    "        full_prec = np.sum(precs, axis=0)\n",
    "\n",
    "        cur_vec = full_vec - vecs[i]\n",
    "        cur_prec = full_prec - precs[i]\n",
    "        cur_x = X[i - 1]\n",
    "\n",
    "        cur_V = cur_x @ np.linalg.solve(cur_prec, cur_x)\n",
    "\n",
    "        # Double check this one!\n",
    "        cur_M = cur_x @ np.linalg.solve(cur_prec, cur_vec)\n",
    "\n",
    "        # Compute moments\n",
    "        cur_lik = partial(binomial_lik, y=y_i[i - 1], m=5)\n",
    "\n",
    "        zeroth_moment = partial(cur_lik, moment=0.)\n",
    "        first_moment = partial(cur_lik, moment=1.)\n",
    "        second_moment = partial(cur_lik, moment=2.)\n",
    "\n",
    "        zeroth_moment = expectation_1d(zeroth_moment, cur_M, cur_V)\n",
    "        first_moment = expectation_1d(first_moment, cur_M, cur_V)\n",
    "        second_moment = expectation_1d(second_moment, cur_M, cur_V)\n",
    "\n",
    "        M = first_moment / zeroth_moment\n",
    "        V = second_moment / zeroth_moment - M**2\n",
    "\n",
    "        M_i_V_i = M / V - cur_M / cur_V\n",
    "        inv_V_i = 1 / V - 1 / cur_V\n",
    "\n",
    "        trans_vec = cur_x * M_i_V_i\n",
    "        trans_prec = inv_V_i * np.outer(cur_x, cur_x)\n",
    "\n",
    "        vecs[i] = trans_vec\n",
    "        precs[i] = trans_prec"
   ]
  },
  {
   "cell_type": "code",
   "execution_count": 117,
   "metadata": {},
   "outputs": [],
   "source": [
    "mean_log = np.array(pred_means)"
   ]
  },
  {
   "cell_type": "code",
   "execution_count": 118,
   "metadata": {},
   "outputs": [
    {
     "data": {
      "text/plain": [
       "array([[ 0.        ,  0.        ],\n",
       "       [ 4.05241144,  6.68086275],\n",
       "       [ 0.73301093,  6.38251291],\n",
       "       [ 1.1920429 , 10.38386587],\n",
       "       [ 1.27846932, 11.28819757],\n",
       "       [ 1.28129531, 11.46116551],\n",
       "       [ 1.28271504, 11.49006765],\n",
       "       [ 1.28309681, 11.49552536],\n",
       "       [ 1.28313976, 11.49635872],\n",
       "       [ 1.28314252, 11.49647102],\n",
       "       [ 1.28314229, 11.49648797],\n",
       "       [ 1.28314279, 11.49648908],\n",
       "       [ 1.28314314, 11.49649088],\n",
       "       [ 1.28314376, 11.496495  ],\n",
       "       [ 1.28314331, 11.49649467],\n",
       "       [ 1.28314362, 11.4964961 ],\n",
       "       [ 1.28314271, 11.496492  ],\n",
       "       [ 1.28314332, 11.49649468],\n",
       "       [ 1.28314342, 11.49649201],\n",
       "       [ 1.28314332, 11.4964911 ]])"
      ]
     },
     "execution_count": 118,
     "metadata": {},
     "output_type": "execute_result"
    }
   ],
   "source": [
    "mean_log"
   ]
  },
  {
   "cell_type": "code",
   "execution_count": 119,
   "metadata": {},
   "outputs": [
    {
     "data": {
      "text/plain": [
       "[<matplotlib.lines.Line2D at 0x7f3fc49b05d0>]"
      ]
     },
     "execution_count": 119,
     "metadata": {},
     "output_type": "execute_result"
    },
    {
     "data": {
      "image/png": "[encoded data removed]",
      "text/plain": [
       "<Figure size 432x288 with 1 Axes>"
      ]
     },
     "metadata": {
      "image/png": {
       "height": 248,
       "width": 372
      },
      "needs_background": "light"
     },
     "output_type": "display_data"
    }
   ],
   "source": [
    "plt.plot(mean_log[:, 0])"
   ]
  },
  {
   "cell_type": "code",
   "execution_count": 120,
   "metadata": {},
   "outputs": [
    {
     "data": {
      "text/plain": [
       "[<matplotlib.lines.Line2D at 0x7f3fc49a9290>]"
      ]
     },
     "execution_count": 120,
     "metadata": {},
     "output_type": "execute_result"
    },
    {
     "data": {
      "image/png": "[encoded data removed]",
      "text/plain": [
       "<Figure size 432x288 with 1 Axes>"
      ]
     },
     "metadata": {
      "image/png": {
       "height": 250,
       "width": 368
      },
      "needs_background": "light"
     },
     "output_type": "display_data"
    }
   ],
   "source": [
    "plt.plot(mean_log[:, 1])"
   ]
  },
  {
   "cell_type": "code",
   "execution_count": 121,
   "metadata": {},
   "outputs": [
    {
     "data": {
      "text/plain": [
       "array([[ 1.10028597,  3.11976399],\n",
       "       [ 3.11976399, 23.14681932]])"
      ]
     },
     "execution_count": 121,
     "metadata": {},
     "output_type": "execute_result"
    }
   ],
   "source": [
    "pred_covs[-1]"
   ]
  },
  {
   "cell_type": "code",
   "execution_count": 122,
   "metadata": {},
   "outputs": [
    {
     "data": {
      "text/plain": [
       "array([[1.        , 0.61819188],\n",
       "       [0.61819188, 1.        ]])"
      ]
     },
     "execution_count": 122,
     "metadata": {},
     "output_type": "execute_result"
    }
   ],
   "source": [
    "from ml_tools.normals import covar_to_corr\n",
    "\n",
    "covar_to_corr(pred_covs[-1])"
   ]
  },
  {
   "cell_type": "code",
   "execution_count": null,
   "metadata": {},
   "outputs": [],
   "source": []
  }
 ],
 "metadata": {
  "kernelspec": {
   "display_name": "Python 3",
   "language": "python",
   "name": "python3"
  },
  "language_info": {
   "codemirror_mode": {
    "name": "ipython",
    "version": 3
   },
   "file_extension": ".py",
   "mimetype": "text/x-python",
   "name": "python",
   "nbconvert_exporter": "python",
   "pygments_lexer": "ipython3",
   "version": "3.7.7"
  }
 },
 "nbformat": 4,
 "nbformat_minor": 4
}
